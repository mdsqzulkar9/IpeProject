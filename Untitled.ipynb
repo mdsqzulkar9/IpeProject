{
 "cells": [
  {
   "cell_type": "code",
   "execution_count": null,
   "metadata": {
    "collapsed": false
   },
   "outputs": [],
   "source": [
    "import pandas as pd\n",
    "import matplotlib.pyplot as plt\n",
    "import numpy as np"
   ]
  },
  {
   "cell_type": "code",
   "execution_count": null,
   "metadata": {
    "collapsed": false
   },
   "outputs": [],
   "source": [
    "df = pd.read_excel('database.xlsx')"
   ]
  },
  {
   "cell_type": "code",
   "execution_count": null,
   "metadata": {
    "collapsed": false
   },
   "outputs": [],
   "source": [
    "# get the unique id for each product :\n",
    "unique_id = df.Id.unique()\n",
    "len(unique_id)"
   ]
  },
  {
   "cell_type": "code",
   "execution_count": null,
   "metadata": {
    "collapsed": false
   },
   "outputs": [],
   "source": [
    "# slicing the data based on product :\n",
    "product_list = []\n",
    "to_forecast_list = []\n",
    "dates_list = []\n",
    "for pid in unique_id :\n",
    "    product = df[ df.Id == pid]\n",
    "    to_forecast = product.units\n",
    "    dates = product.DATE\n",
    "    if (len(product) > 20):\n",
    "        product_list.append(product)\n",
    "        to_forecast_list.append(to_forecast)\n",
    "        dates_list.append(dates)   "
   ]
  },
  {
   "cell_type": "code",
   "execution_count": null,
   "metadata": {
    "collapsed": false
   },
   "outputs": [],
   "source": [
    "len(product_list)"
   ]
  },
  {
   "cell_type": "code",
   "execution_count": null,
   "metadata": {
    "collapsed": false
   },
   "outputs": [],
   "source": [
    "def mape(ypred, ytrue):\n",
    "    \"\"\" returns the mean absolute percentage error \"\"\"\n",
    "    idx = ytrue != 0.0\n",
    "    return 100*np.mean(np.abs(ypred[idx]-ytrue[idx])/ytrue[idx])"
   ]
  },
  {
   "cell_type": "code",
   "execution_count": null,
   "metadata": {
    "collapsed": true
   },
   "outputs": [],
   "source": [
    "def organize_data(to_forecast, window, horizon):\n",
    "    \"\"\"\n",
    "     Input:\n",
    "      to_forecast, univariate time series organized as numpy array\n",
    "      window, number of items to use in the forecast window\n",
    "      horizon, horizon of the forecast\n",
    "     Output:\n",
    "      X, a matrix where each row contains a forecast window\n",
    "      y, the target values for each row of X\n",
    "    \"\"\"\n",
    "    shape = to_forecast.shape[:-1] + (to_forecast.shape[-1] - window + 1, window)\n",
    "    strides = to_forecast.strides + (to_forecast.strides[-1],)\n",
    "    X = np.lib.stride_tricks.as_strided(to_forecast, \n",
    "                                        shape=shape, \n",
    "                                        strides=strides)\n",
    "    y = np.array([X[i+horizon][-1] for i in range(len(X)-horizon)])\n",
    "    return X[:-horizon], y"
   ]
  },
  {
   "cell_type": "code",
   "execution_count": null,
   "metadata": {
    "collapsed": false
   },
   "outputs": [],
   "source": [
    "from sklearn.linear_model import LinearRegression\n",
    "\n",
    "error_list = []\n",
    "\n",
    "# do loop : \n",
    "for to_forecast in to_forecast_list:\n",
    "    k = 4   # number of previous observations to use \n",
    "    h = 1   # forecast horizon\n",
    "    X,y = organize_data(to_forecast, k, h)\n",
    "    \n",
    "    m = 20 # number of samples to take in account\n",
    "    regressor = LinearRegression(normalize=True)\n",
    "    regressor.fit(X[:m], y[:m])\n",
    "    #regressor_list.append(regressor)\n",
    "    \n",
    "    # compute error :\n",
    "    error = mape(regressor.predict(X[m:]),y[m:])\n",
    "    error_list.append(error)\n",
    "    \n",
    "    # error graph:\n",
    "                 \n",
    "    # plot regression graph:              \n",
    "    fig=plt.figure(figsize=(8,6))\n",
    "    plt.plot(y, label='True demand', color='#377EB8', linewidth=2)\n",
    "    plt.plot(regressor.predict(X), \n",
    "         '--', color='#EB3737', linewidth=3, label='Prediction')\n",
    "    plt.plot(y[:m], label='Train data', color='#3700B8', linewidth=2)\n",
    "    plt.xticks(range(len(dates))[1::4],dates[1::4], rotation=45)\n",
    "    plt.legend(loc='upper right')\n",
    "    plt.ylabel('units_ordered_today')\n",
    "    plt.show()\n",
    "# loop ends\n"
   ]
  },
  {
   "cell_type": "code",
   "execution_count": null,
   "metadata": {
    "collapsed": true
   },
   "outputs": [],
   "source": []
  },
  {
   "cell_type": "code",
   "execution_count": null,
   "metadata": {
    "collapsed": false
   },
   "outputs": [],
   "source": [
    "error_list = []\n",
    "for regressor in regressor_list:\n",
    "    error_list.append( mape(regressor.predict(X[m:]),y[m:]) )\n",
    "    #print ('The error is %0.2f%%' % mape(regressor.predict(X[m:]),y[m:]))\n"
   ]
  },
  {
   "cell_type": "code",
   "execution_count": null,
   "metadata": {
    "collapsed": true
   },
   "outputs": [],
   "source": [
    " \n",
    "for regressor in regressor_list:\n",
    "    fig=plt.figure(figsize=(8,6))\n",
    "    plt.plot(y, label='True demand', color='#377EB8', linewidth=2)\n",
    "    plt.plot(regressor.predict(X), \n",
    "         '--', color='#EB3737', linewidth=3, label='Prediction')\n",
    "    plt.plot(y[:m], label='Train data', color='#3700B8', linewidth=2)\n",
    "    plt.xticks(range(len(dates))[1::4],dates[1::4], rotation=45)\n",
    "    plt.legend(loc='upper right')\n",
    "    plt.ylabel('units_ordered_today')\n",
    "    plt.show()"
   ]
  },
  {
   "cell_type": "code",
   "execution_count": null,
   "metadata": {
    "collapsed": true
   },
   "outputs": [],
   "source": []
  },
  {
   "cell_type": "code",
   "execution_count": null,
   "metadata": {
    "collapsed": true
   },
   "outputs": [],
   "source": []
  },
  {
   "cell_type": "code",
   "execution_count": null,
   "metadata": {
    "collapsed": true
   },
   "outputs": [],
   "source": []
  }
 ],
 "metadata": {
  "kernelspec": {
   "display_name": "Python 3",
   "language": "python",
   "name": "python3"
  },
  "language_info": {
   "codemirror_mode": {
    "name": "ipython",
    "version": 3
   },
   "file_extension": ".py",
   "mimetype": "text/x-python",
   "name": "python",
   "nbconvert_exporter": "python",
   "pygments_lexer": "ipython3",
   "version": "3.5.1"
  }
 },
 "nbformat": 4,
 "nbformat_minor": 0
}
